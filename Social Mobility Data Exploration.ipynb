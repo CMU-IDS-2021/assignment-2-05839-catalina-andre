{
 "cells": [
  {
   "cell_type": "code",
   "execution_count": 1,
   "id": "allied-volunteer",
   "metadata": {},
   "outputs": [],
   "source": [
    "import pandas as pd"
   ]
  },
  {
   "cell_type": "code",
   "execution_count": 2,
   "id": "moral-rental",
   "metadata": {},
   "outputs": [],
   "source": [
    "social_mobility_df = pd.read_csv(\"health_ineq_online_table_12.csv\")"
   ]
  },
  {
   "cell_type": "code",
   "execution_count": 17,
   "id": "difficult-darwin",
   "metadata": {},
   "outputs": [
    {
     "data": {
      "text/plain": [
       "0       None\n",
       "1       None\n",
       "2       None\n",
       "3       None\n",
       "4       None\n",
       "        ... \n",
       "3133    None\n",
       "3134    None\n",
       "3135    None\n",
       "3136    None\n",
       "3137    None\n",
       "Length: 3138, dtype: object"
      ]
     },
     "execution_count": 17,
     "metadata": {},
     "output_type": "execute_result"
    }
   ],
   "source": [
    "unique_counties = set()\n",
    "\n",
    "def add_to_unique(row):\n",
    "    unique_counties.add(row['county_name'] + \":\" + row['statename'])\n",
    "\n",
    "social_mobility_df.apply(lambda x: add_to_unique(x), axis=1)"
   ]
  },
  {
   "cell_type": "code",
   "execution_count": 18,
   "id": "excessive-sight",
   "metadata": {},
   "outputs": [
    {
     "data": {
      "text/plain": [
       "3138"
      ]
     },
     "execution_count": 18,
     "metadata": {},
     "output_type": "execute_result"
    }
   ],
   "source": [
    "len(unique_counties)"
   ]
  },
  {
   "cell_type": "code",
   "execution_count": 20,
   "id": "separated-missile",
   "metadata": {},
   "outputs": [
    {
     "data": {
      "text/plain": [
       "Index(['cty', 'county_name', 'cty_pop2000', 'cz', 'cz_name', 'cz_pop2000',\n",
       "       'statename', 'state_id', 'stateabbrv', 'csa', 'csa_name', 'cbsa',\n",
       "       'cbsa_name', 'intersects_msa', 'cur_smoke_q1', 'cur_smoke_q2',\n",
       "       'cur_smoke_q3', 'cur_smoke_q4', 'bmi_obese_q1', 'bmi_obese_q2',\n",
       "       'bmi_obese_q3', 'bmi_obese_q4', 'exercise_any_q1', 'exercise_any_q2',\n",
       "       'exercise_any_q3', 'exercise_any_q4', 'puninsured2010',\n",
       "       'reimb_penroll_adj10', 'mort_30day_hosp_z', 'adjmortmeas_amiall30day',\n",
       "       'adjmortmeas_chfall30day', 'adjmortmeas_pnall30day', 'med_prev_qual_z',\n",
       "       'primcarevis_10', 'diab_hemotest_10', 'diab_eyeexam_10',\n",
       "       'diab_lipids_10', 'mammogram_10', 'amb_disch_per1000_10',\n",
       "       'cs00_seg_inc', 'cs00_seg_inc_pov25', 'cs00_seg_inc_aff75',\n",
       "       'cs_race_theil_2000', 'gini99', 'poor_share', 'inc_share_1perc',\n",
       "       'frac_middleclass', 'scap_ski90pcm', 'rel_tot', 'cs_frac_black',\n",
       "       'cs_frac_hisp', 'unemp_rate', 'pop_d_2000_1980', 'lf_d_2000_1980',\n",
       "       'cs_labforce', 'cs_elf_ind_man', 'cs_born_foreign', 'mig_inflow',\n",
       "       'mig_outflow', 'pop_density', 'frac_traveltime_lt15', 'hhinc00',\n",
       "       'median_house_value', 'ccd_exp_tot', 'ccd_pup_tch_ratio', 'score_r',\n",
       "       'dropout_r', 'cs_educ_ba', 'tuition', 'gradrate_r', 'e_rank_b',\n",
       "       'cs_fam_wkidsinglemom', 'crime_total', 'subcty_exp_pc', 'taxrate',\n",
       "       'tax_st_diff_top20'],\n",
       "      dtype='object')"
      ]
     },
     "execution_count": 20,
     "metadata": {},
     "output_type": "execute_result"
    }
   ],
   "source": [
    "social_mobility_df.columns"
   ]
  },
  {
   "cell_type": "code",
   "execution_count": 21,
   "id": "rental-johnson",
   "metadata": {},
   "outputs": [
    {
     "data": {
      "text/plain": [
       "count    2386.000000\n",
       "mean        0.595246\n",
       "std         0.123001\n",
       "min         0.000000\n",
       "25%         0.538462\n",
       "50%         0.600000\n",
       "75%         0.661920\n",
       "max         1.000000\n",
       "Name: exercise_any_q1, dtype: float64"
      ]
     },
     "execution_count": 21,
     "metadata": {},
     "output_type": "execute_result"
    }
   ],
   "source": [
    "social_mobility_df['exercise_any_q1'].describe()"
   ]
  },
  {
   "cell_type": "code",
   "execution_count": null,
   "id": "composite-damages",
   "metadata": {},
   "outputs": [],
   "source": []
  }
 ],
 "metadata": {
  "kernelspec": {
   "display_name": "Python 3",
   "language": "python",
   "name": "python3"
  },
  "language_info": {
   "codemirror_mode": {
    "name": "ipython",
    "version": 3
   },
   "file_extension": ".py",
   "mimetype": "text/x-python",
   "name": "python",
   "nbconvert_exporter": "python",
   "pygments_lexer": "ipython3",
   "version": "3.9.2"
  }
 },
 "nbformat": 4,
 "nbformat_minor": 5
}
